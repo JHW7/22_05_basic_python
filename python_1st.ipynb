{
  "nbformat": 4,
  "nbformat_minor": 0,
  "metadata": {
    "colab": {
      "provenance": [],
      "authorship_tag": "ABX9TyNPPCBQlNzo3lHcNq9LiCVI",
      "include_colab_link": true
    },
    "kernelspec": {
      "name": "python3",
      "display_name": "Python 3"
    },
    "language_info": {
      "name": "python"
    }
  },
  "cells": [
    {
      "cell_type": "markdown",
      "metadata": {
        "id": "view-in-github",
        "colab_type": "text"
      },
      "source": [
        "<a href=\"https://colab.research.google.com/github/JHW7/22_05_basic_python/blob/main/python_1st.ipynb\" target=\"_parent\"><img src=\"https://colab.research.google.com/assets/colab-badge.svg\" alt=\"Open In Colab\"/></a>"
      ]
    },
    {
      "cell_type": "markdown",
      "source": [
        "1. \"안녕하세요\"를 화면에 출력해보자.\n",
        "\n"
      ],
      "metadata": {
        "id": "m4_WgscPZCHp"
      }
    },
    {
      "cell_type": "code",
      "source": [
        "print(\"안녕하세요\")"
      ],
      "metadata": {
        "colab": {
          "base_uri": "https://localhost:8080/"
        },
        "id": "JtY-ohudZRD2",
        "outputId": "eed4c03f-3455-418e-eef6-de61d00f80a3"
      },
      "execution_count": 1,
      "outputs": [
        {
          "output_type": "stream",
          "name": "stdout",
          "text": [
            "안녕하세요\n"
          ]
        }
      ]
    },
    {
      "cell_type": "markdown",
      "source": [
        "2. programming에 입문하신 것을 축하드립니다.\n",
        "를 출력하시오."
      ],
      "metadata": {
        "id": "X9jIDhxoZ7DV"
      }
    },
    {
      "cell_type": "code",
      "source": [
        "print(\"programming에 입문하신 것을 축하드립니다.\")"
      ],
      "metadata": {
        "colab": {
          "base_uri": "https://localhost:8080/"
        },
        "id": "HNe0-rIiaMk4",
        "outputId": "96ad37ec-bed8-44da-e0e0-0620c84c9f08"
      },
      "execution_count": 2,
      "outputs": [
        {
          "output_type": "stream",
          "name": "stdout",
          "text": [
            "programming에 입문하신 것을 축하드립니다.\n"
          ]
        }
      ]
    }
  ]
}